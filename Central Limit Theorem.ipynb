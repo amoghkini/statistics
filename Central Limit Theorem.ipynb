{
 "cells": [
  {
   "cell_type": "code",
   "execution_count": 1,
   "metadata": {},
   "outputs": [],
   "source": [
    "import numpy as np\n",
    "import pandas as pd\n",
    "import seaborn as sns\n",
    "import matplotlib.pyplot as plt"
   ]
  },
  {
   "cell_type": "code",
   "execution_count": 2,
   "metadata": {},
   "outputs": [],
   "source": [
    "delivery = pd.read_csv('deliveries.csv')"
   ]
  },
  {
   "cell_type": "code",
   "execution_count": 8,
   "metadata": {},
   "outputs": [],
   "source": [
    "runs = delivery.groupby('batsman').sum()['batsman_runs']"
   ]
  },
  {
   "cell_type": "code",
   "execution_count": 9,
   "metadata": {},
   "outputs": [
    {
     "data": {
      "text/plain": [
       "batsman\n",
       "A Ashish Reddy     280\n",
       "A Chandila           4\n",
       "A Chopra            53\n",
       "A Choudhary         25\n",
       "A Flintoff          62\n",
       "                  ... \n",
       "YV Takawale        192\n",
       "Yashpal Singh       47\n",
       "Younis Khan          3\n",
       "Yuvraj Singh      2591\n",
       "Z Khan             117\n",
       "Name: batsman_runs, Length: 461, dtype: int64"
      ]
     },
     "execution_count": 9,
     "metadata": {},
     "output_type": "execute_result"
    }
   ],
   "source": [
    "runs"
   ]
  },
  {
   "cell_type": "code",
   "execution_count": 10,
   "metadata": {},
   "outputs": [],
   "source": [
    "runs = runs.values"
   ]
  },
  {
   "cell_type": "code",
   "execution_count": 11,
   "metadata": {},
   "outputs": [
    {
     "data": {
      "text/plain": [
       "array([ 280,    4,   53,   25,   62,   35,  340,   34,   19,   41,    2,\n",
       "        974,    4,    5,   69,   12,  217,    9,  179,   42,   26,  123,\n",
       "       3486,  120, 2069,   20,  181,   79,  724,   20,  574,    7,   10,\n",
       "         49, 1604,   53,  401,  672, 3057,   36,    7,   34,   87,  339,\n",
       "         12,  606,    6,  194,   49, 2416,   39,    0,   63,   87,    7,\n",
       "         33,  388,   76,  280,  158,    4,  124,   35,    6,  316,    3,\n",
       "       2755,  125,    4,  124,    1,   18, 1400,  193,   23,   40,   28,\n",
       "        187,   15,   30,    0,  126,   21,  384,  390, 3651,  439,  521,\n",
       "         98,    3,    8,   16,    8,  971,  169,   95,   46,    4,    3,\n",
       "         33,  127,   10, 1563, 4014,   12,  304,  375,   21,  170, 1262,\n",
       "        111,  373, 1322,   92,    1,   39,  295,   14,  121,    6,   11,\n",
       "          4,    1, 1808,   19, 2385,   90,   18,  420,   13,  166,  854,\n",
       "         24,   14, 1295,    4,  183, 4132,   22,  739,    4,  280,  663,\n",
       "       1229,   15,  342,    2,  886,  406,  577,   47,  799,   18,   20,\n",
       "          7,   45,    0, 1150,   76,   18,   88,  319,   23,  409,   48,\n",
       "         29,   10,    6,  975,  528,  604,    5,  106,   42,    3,  327,\n",
       "       2427,   25,   59,   18,   26,   38, 1993,  527,  417,    8,   36,\n",
       "        218,   55,   12, 2354,   10,   51,   15, 1687, 2903,  480,   13,\n",
       "        116, 1158,  725,  893,    5,    2, 1001,  411,  317,   36,  128,\n",
       "          3,   12,   20,    0,   36,   34,   81,  302,    1,  106, 1079,\n",
       "         40,  405, 1017,    0,  259,  113,   73,  514,  126,   20,   11,\n",
       "         55, 2511,  957,    1,  814,   24,   96,  969,  125,  237,   14,\n",
       "       1977,  177,  151,   98,  189,  278,   63, 2223, 1648, 1107,   39,\n",
       "        112,  161,  167,  163,  225,  798, 3560,   99,   22,  394, 1112,\n",
       "          2,  117,    2,    3,   64,    2,   46,  437,  140,    0,   20,\n",
       "          1,   26,  424,   52,   23, 1553,  121,  506,    5,  127,  340,\n",
       "        353,    1,   19, 2322,  164,  505,  203,   77,   24,    1,  515,\n",
       "         16,   92,    6,   18,    7,   17,  726,  231,  342,   19,  153,\n",
       "       2174,  159,    3,   51,  270,   66,   19,   35,  304, 1732,  391,\n",
       "          3,   83,  159,    2, 4207,  117,   32,  103,  326,   52,    0,\n",
       "        564,   67,   20,   53,   73,  531,    2,    4,   91,   50, 3778,\n",
       "         11,  136,   59,   13, 1441,   25, 3561,   14,    9,    0,    0,\n",
       "         26,   37,   91,    2,  368,   34,   31,    3,  145,   15,  423,\n",
       "        608,   49,   28,    6,  131,    2, 1349,   99,    1, 2489,    5,\n",
       "       4548,   42,  198,   88,    9,  241,  147,   10,  177,    7,  196,\n",
       "        241,   38,  271, 1713, 2334, 2628,  807,    6, 1276,  768,  766,\n",
       "       1426,  226,   23,  137,  193,   26,   81,  500,    5,    1,    2,\n",
       "         52,   36,    0,   43,   12,   11,   11,   31,   12,    5,   10,\n",
       "         54,  676, 1153,  205,    8,   75,    8,    0,    7,  300,  127,\n",
       "         94,   39, 4423,    0, 2728,  101,   29,   46,    4,    7,    2,\n",
       "        282,   15,   19,  130,   56,   63, 1557,   81,    9,   10,   19,\n",
       "        285,  985,    0, 2922,   15,  192,   47,    3, 2591,  117],\n",
       "      dtype=int64)"
      ]
     },
     "execution_count": 11,
     "metadata": {},
     "output_type": "execute_result"
    }
   ],
   "source": [
    "runs"
   ]
  },
  {
   "cell_type": "code",
   "execution_count": 14,
   "metadata": {},
   "outputs": [
    {
     "name": "stderr",
     "output_type": "stream",
     "text": [
      "c:\\program files\\python36\\lib\\site-packages\\seaborn\\distributions.py:2551: FutureWarning: `distplot` is a deprecated function and will be removed in a future version. Please adapt your code to use either `displot` (a figure-level function with similar flexibility) or `histplot` (an axes-level function for histograms).\n",
      "  warnings.warn(msg, FutureWarning)\n"
     ]
    },
    {
     "data": {
      "text/plain": [
       "<AxesSubplot:ylabel='Density'>"
      ]
     },
     "execution_count": 14,
     "metadata": {},
     "output_type": "execute_result"
    },
    {
     "data": {
      "image/png": "[encoded data removed]",
      "text/plain": [
       "<Figure size 432x288 with 1 Axes>"
      ]
     },
     "metadata": {
      "needs_background": "light"
     },
     "output_type": "display_data"
    }
   ],
   "source": [
    "sns.distplot(runs)"
   ]
  },
  {
   "cell_type": "markdown",
   "metadata": {},
   "source": [
    "### This data is not normal distribution. It is exponentional format."
   ]
  },
  {
   "cell_type": "markdown",
   "metadata": {},
   "source": [
    "## n = 50 , batsman taken per sample are 50 out of 461\n",
    "## m = 1000, Number of times sampling done"
   ]
  },
  {
   "cell_type": "code",
   "execution_count": 20,
   "metadata": {},
   "outputs": [
    {
     "data": {
      "text/plain": [
       "array([  11, 3057, 1112,    0,  388], dtype=int64)"
      ]
     },
     "execution_count": 20,
     "metadata": {},
     "output_type": "execute_result"
    }
   ],
   "source": [
    "## eg to find random sample data from populaton\n",
    "np.random.choice(runs,size=5)"
   ]
  },
  {
   "cell_type": "code",
   "execution_count": 21,
   "metadata": {},
   "outputs": [],
   "source": [
    "m = 1000\n",
    "n = 50\n",
    "sample_list = []\n",
    "for i in range(m):\n",
    "    x = np.random.choice(runs,size=50)\n",
    "    sample_list.append(x.mean())\n",
    "    "
   ]
  },
  {
   "cell_type": "code",
   "execution_count": 22,
   "metadata": {},
   "outputs": [
    {
     "data": {
      "text/plain": [
       "1000"
      ]
     },
     "execution_count": 22,
     "metadata": {},
     "output_type": "execute_result"
    }
   ],
   "source": [
    "len(sample_list)"
   ]
  },
  {
   "cell_type": "code",
   "execution_count": 23,
   "metadata": {},
   "outputs": [
    {
     "data": {
      "text/plain": [
       "array([323.  , 403.8 , 544.06, 316.94, 442.88, 394.98, 379.06, 412.78,\n",
       "       596.52, 188.04, 280.48, 387.02, 385.46, 426.08, 379.34, 515.14,\n",
       "       413.7 , 291.78, 234.04, 694.76, 356.04, 402.72, 427.5 , 254.52,\n",
       "       313.38, 506.34, 431.88, 280.22, 339.66, 396.52, 319.  , 513.72,\n",
       "       446.94, 237.94, 569.72, 326.9 , 482.78, 259.16, 380.14, 521.2 ,\n",
       "       382.48, 558.46, 324.26, 510.36, 579.66, 294.72, 370.68, 287.76,\n",
       "       272.98, 317.04, 583.5 , 342.82, 259.4 , 636.12, 411.48, 198.28,\n",
       "       197.02, 286.94, 322.66, 435.86, 370.  , 469.46, 549.66, 326.  ,\n",
       "       323.92, 420.72, 440.6 , 328.74, 343.7 , 353.6 , 307.3 , 582.66,\n",
       "       376.54, 708.78, 237.4 , 276.04, 412.88, 447.9 , 455.06, 348.78,\n",
       "       372.2 , 259.1 , 432.96, 490.34, 462.1 , 398.  , 296.54, 309.44,\n",
       "       256.16, 479.4 , 480.46, 489.12, 395.32, 299.54, 409.4 , 301.28,\n",
       "       573.72, 445.2 , 392.  , 551.74, 532.54, 277.34, 543.06, 560.14,\n",
       "       472.3 , 247.1 , 488.36, 176.64, 342.56, 190.64, 471.7 , 429.6 ,\n",
       "       379.88, 455.6 , 556.4 , 267.04, 356.1 , 367.  , 371.32, 486.7 ,\n",
       "       453.14, 534.98, 425.48, 450.16, 523.2 , 541.62, 378.36, 369.08,\n",
       "       135.2 , 457.88, 445.46, 529.  , 695.4 , 193.26, 344.48, 471.1 ,\n",
       "       296.08, 294.3 , 324.3 , 314.2 , 433.72, 432.28, 410.64, 320.7 ,\n",
       "       363.96, 370.94, 353.24, 425.22, 503.06, 353.86, 569.9 , 324.34,\n",
       "       494.5 , 348.72, 534.52, 615.46, 479.16, 326.16, 467.8 , 654.06,\n",
       "       305.22, 419.78, 433.06, 390.24, 311.74, 378.5 , 501.1 , 444.28,\n",
       "       231.54, 428.84, 301.66, 478.48, 503.56, 390.32, 340.36, 448.86,\n",
       "       253.6 , 516.74, 431.12, 403.18, 314.32, 304.44, 216.82, 301.72,\n",
       "       758.46, 284.84, 426.26, 422.44, 359.34, 432.64, 376.74, 365.12,\n",
       "       326.4 , 354.18, 344.42, 252.6 , 432.78, 330.58, 338.7 , 369.08,\n",
       "       454.52, 365.88, 194.98, 344.76, 230.08, 285.3 , 399.24, 468.  ,\n",
       "       303.06, 341.34, 375.7 , 326.58, 265.28, 492.74, 482.88, 361.94,\n",
       "       341.52, 245.16, 457.06, 534.64, 514.22, 591.26, 564.32, 375.96,\n",
       "       318.96, 439.86, 446.68, 489.94, 559.92, 373.46, 579.82, 489.46,\n",
       "       422.3 , 509.96, 529.04, 419.44, 318.26, 409.3 , 237.84, 500.1 ,\n",
       "       448.84, 428.72, 559.12, 483.62, 375.88, 363.92, 592.24, 348.78,\n",
       "       403.34, 472.56, 199.94, 382.3 , 362.74, 374.52, 183.32, 586.26,\n",
       "       598.68, 629.9 , 523.26, 505.66, 296.12, 402.9 , 357.94, 196.44,\n",
       "       573.12, 599.82, 321.8 , 419.92, 331.86, 525.4 , 167.44, 430.02,\n",
       "       444.74, 335.64, 292.36, 326.72, 251.08, 283.58, 587.04, 238.94,\n",
       "       458.8 , 528.26, 641.88, 341.26, 472.18, 242.68, 529.44, 362.22,\n",
       "       421.82, 403.3 , 501.84, 194.92, 348.18, 669.54, 394.68, 300.92,\n",
       "       449.04, 396.5 , 303.26, 372.32, 338.98, 370.4 , 458.22, 402.08,\n",
       "       495.5 , 456.5 , 375.  , 423.68, 172.68, 328.06, 289.3 , 385.48,\n",
       "       492.32, 392.06, 467.86, 392.16, 573.5 , 576.92, 366.24, 429.86,\n",
       "       509.88, 551.68, 470.8 , 404.32, 573.74, 223.48, 427.02, 275.4 ,\n",
       "       274.12, 629.62, 240.82, 608.82, 503.04, 397.08, 418.22, 310.42,\n",
       "       358.68, 295.06, 289.16, 314.7 , 111.14, 483.18, 510.28, 403.5 ,\n",
       "       315.4 , 262.42, 245.56, 350.6 , 769.76, 415.78, 346.82, 441.38,\n",
       "       364.4 , 419.5 , 374.84, 296.08, 449.54, 308.36, 425.02, 311.9 ,\n",
       "       369.4 , 378.64, 249.92, 566.46, 399.38, 578.3 , 414.  , 473.  ,\n",
       "       549.42, 358.28, 613.88, 458.76, 588.9 , 472.26, 378.56, 652.14,\n",
       "       332.24, 334.72, 254.28, 282.02, 258.7 , 369.94, 415.7 , 379.14,\n",
       "       391.36, 265.06, 337.66, 442.9 , 369.34, 329.34, 219.36, 333.48,\n",
       "       332.6 , 564.32, 340.84, 393.6 , 277.76, 419.44, 393.58, 340.68,\n",
       "       725.68, 249.58, 380.94, 487.42, 489.26, 477.98, 399.18, 307.  ,\n",
       "       281.38, 275.9 , 349.6 , 528.98, 252.2 , 182.18, 469.82, 459.2 ,\n",
       "       484.4 , 291.1 , 307.92, 364.84, 340.86, 454.12, 503.24, 373.06,\n",
       "       322.48, 269.64, 454.56, 477.82, 324.44, 278.46, 283.72, 492.86,\n",
       "       397.04, 393.38, 288.46, 222.3 , 241.16, 598.3 , 281.64, 369.36,\n",
       "       311.1 , 439.84, 390.72, 328.1 , 288.6 , 305.08, 556.08, 418.34,\n",
       "       416.52, 593.24, 241.56, 422.54, 349.2 , 431.48, 424.32, 565.84,\n",
       "       491.56, 410.96, 540.58, 513.28, 499.3 , 495.58, 271.4 , 282.94,\n",
       "       319.  , 215.82, 383.48, 517.34, 389.74, 393.28, 418.82, 335.08,\n",
       "       542.74, 336.24, 489.7 , 557.44, 352.54, 336.76, 351.02, 512.52,\n",
       "       328.7 , 433.32, 337.12, 490.78, 546.68, 185.06, 333.6 , 257.78,\n",
       "       382.48, 486.62, 314.6 , 355.86, 445.5 , 321.9 , 258.9 , 284.5 ,\n",
       "       447.42, 397.54, 587.18, 214.1 , 357.94, 364.32, 302.74, 300.52,\n",
       "       437.82, 535.46, 639.4 , 255.18, 607.86, 399.8 , 333.  , 262.46,\n",
       "       426.76, 335.82, 182.78, 386.72, 288.04, 391.6 , 361.8 , 514.58,\n",
       "       399.62, 458.6 , 388.06, 322.22, 451.5 , 461.14, 330.82, 385.22,\n",
       "       340.52, 276.48, 283.56, 348.84, 381.08, 174.16, 314.8 , 549.58,\n",
       "       240.26, 250.76, 181.7 , 464.58, 355.1 , 155.56, 366.18, 766.7 ,\n",
       "       446.44, 439.08, 603.2 , 594.7 , 419.98, 265.02, 586.72, 440.9 ,\n",
       "       403.34, 521.2 , 370.44, 324.86, 361.82, 489.84, 458.68, 541.68,\n",
       "       333.32, 448.6 , 363.44, 435.54, 326.34, 415.4 , 184.92, 526.38,\n",
       "       417.04, 476.5 , 564.24, 449.66, 351.  , 293.9 , 405.34, 355.68,\n",
       "       471.6 , 348.6 , 292.02, 435.76, 254.28, 268.32, 438.12, 386.82,\n",
       "       205.32, 293.78, 509.96, 286.06, 499.44, 356.54, 455.24, 457.4 ,\n",
       "       553.96, 588.98, 256.38, 467.48, 368.5 , 563.2 , 449.92, 449.04,\n",
       "       341.72, 589.52, 252.7 , 429.2 , 529.86, 273.34, 366.9 , 398.1 ,\n",
       "       336.3 , 443.88, 311.42, 245.06, 208.26, 382.76, 405.16, 461.38,\n",
       "       624.58, 271.1 , 443.58, 272.44, 238.64, 277.28, 459.66, 376.88,\n",
       "       261.94, 422.34, 268.96, 520.56, 424.74, 245.66, 172.76, 428.04,\n",
       "       543.44, 537.52, 248.6 , 305.66, 613.14, 283.1 , 363.72, 375.5 ,\n",
       "       264.32, 410.58, 301.36, 388.8 , 425.46, 441.28, 168.36, 471.44,\n",
       "       630.8 , 391.62, 323.08, 477.52, 346.58, 315.76, 377.22, 470.34,\n",
       "       678.38, 420.72, 392.44, 305.24, 416.74, 486.34, 348.78, 424.86,\n",
       "       316.86, 370.9 , 318.14, 457.32, 367.96, 291.78, 357.88, 519.66,\n",
       "       444.08, 369.12, 338.34, 393.84, 412.6 , 246.26, 233.04, 237.5 ,\n",
       "       389.34, 575.74, 425.9 , 510.4 , 220.96, 581.6 , 323.62, 309.24,\n",
       "       430.88, 520.  , 331.86, 263.46, 435.86, 478.48, 396.76, 293.52,\n",
       "       486.18, 427.28, 341.88, 495.92, 608.6 , 345.76, 386.  , 404.68,\n",
       "       458.8 , 205.18, 161.3 , 426.28, 497.78, 459.56, 350.2 , 494.9 ,\n",
       "       425.08, 313.72, 222.9 , 303.24, 298.18, 437.68, 484.36, 409.36,\n",
       "       518.5 , 208.46, 345.8 , 715.8 , 361.52, 351.38, 446.38, 206.2 ,\n",
       "       492.08, 424.96, 516.58, 261.62, 237.26, 374.34, 384.08, 485.92,\n",
       "       423.88, 515.36, 277.62, 581.8 , 425.82, 297.06, 200.78, 292.58,\n",
       "       337.76, 393.54, 273.98, 390.78, 428.66, 218.3 , 518.56, 230.66,\n",
       "       496.44, 202.22, 287.26, 270.68, 177.1 , 199.62, 329.04, 346.14,\n",
       "       320.44, 483.2 , 318.26, 309.22, 471.3 , 401.3 , 456.76, 276.68,\n",
       "       297.38, 507.18, 470.54, 433.78, 279.94, 270.52, 346.44, 311.58,\n",
       "       222.7 , 451.56, 621.2 , 449.52, 487.04, 640.94, 542.22, 444.16,\n",
       "       554.66, 403.62, 401.78, 319.26, 440.62, 437.68, 345.4 , 454.74,\n",
       "       397.68, 469.86, 417.46, 361.58, 286.  , 318.28, 397.78, 175.88,\n",
       "       378.94, 299.68, 474.4 , 471.  , 411.36, 420.74, 613.24, 418.46,\n",
       "       600.16, 431.  , 592.52, 367.76, 521.52, 506.44, 340.88, 369.6 ,\n",
       "       232.02, 517.68, 391.78, 411.38, 397.96, 504.8 , 457.3 , 202.62,\n",
       "       390.42, 353.56, 468.  , 462.66, 746.64, 424.36, 439.76, 274.7 ,\n",
       "       524.94, 420.66, 382.72, 338.66, 434.32, 420.9 , 402.94, 353.1 ,\n",
       "       365.8 , 515.66, 155.14, 299.32, 477.06, 382.34, 296.68, 326.86,\n",
       "       264.64, 246.02, 417.78, 301.78, 273.5 , 591.12, 492.5 , 421.26,\n",
       "       364.74, 442.68, 343.02, 582.86, 383.16, 479.18, 340.14, 467.54,\n",
       "       423.5 , 338.46, 390.42, 402.18, 507.58, 343.42, 362.84, 450.38,\n",
       "       253.32, 234.66, 443.54, 412.36, 527.3 , 402.22, 352.1 , 214.26,\n",
       "       349.1 , 426.76, 300.78, 332.36, 296.56, 543.14, 395.76, 353.2 ,\n",
       "       360.94, 455.94, 634.24, 478.92, 356.02, 669.38, 510.76, 537.04,\n",
       "       550.66, 414.52, 348.02, 478.86, 352.52, 472.56, 425.82, 406.1 ,\n",
       "       364.14, 473.54, 449.72, 423.24, 289.22, 361.68, 407.96, 396.2 ,\n",
       "       351.92, 357.02, 288.92, 528.12, 374.28, 255.38, 462.74, 358.5 ,\n",
       "       314.36, 273.64, 472.56, 300.58, 173.24, 282.82, 487.28, 450.62,\n",
       "       384.16, 424.62, 531.68, 184.86, 465.7 , 178.78, 535.8 , 495.7 ,\n",
       "       453.74, 463.46, 329.92, 276.08, 335.74, 303.5 , 415.62, 428.32,\n",
       "       340.54, 625.1 , 445.7 , 416.12, 416.48, 465.14, 548.9 , 227.76,\n",
       "       669.3 , 508.32, 640.62, 418.02, 262.9 , 526.82, 440.72, 480.38,\n",
       "       364.42, 299.46, 328.96, 441.38, 381.2 , 664.08, 265.76, 224.54,\n",
       "       403.44, 464.32, 437.18, 417.06, 407.66, 156.12, 409.82, 571.96,\n",
       "       378.56, 399.9 , 412.52, 217.2 , 490.58, 329.64, 261.12, 399.72,\n",
       "       352.08, 396.26, 204.24, 560.44, 292.74, 433.66, 271.84, 406.94,\n",
       "       410.6 , 368.46, 297.12, 467.58, 534.34, 360.4 , 481.82, 363.44])"
      ]
     },
     "execution_count": 23,
     "metadata": {},
     "output_type": "execute_result"
    }
   ],
   "source": [
    "sample_array = np.array(sample_list)\n",
    "sample_array"
   ]
  },
  {
   "cell_type": "code",
   "execution_count": 24,
   "metadata": {},
   "outputs": [
    {
     "name": "stderr",
     "output_type": "stream",
     "text": [
      "c:\\program files\\python36\\lib\\site-packages\\seaborn\\distributions.py:2551: FutureWarning: `distplot` is a deprecated function and will be removed in a future version. Please adapt your code to use either `displot` (a figure-level function with similar flexibility) or `histplot` (an axes-level function for histograms).\n",
      "  warnings.warn(msg, FutureWarning)\n"
     ]
    },
    {
     "data": {
      "text/plain": [
       "<AxesSubplot:ylabel='Density'>"
      ]
     },
     "execution_count": 24,
     "metadata": {},
     "output_type": "execute_result"
    },
    {
     "data": {
      "image/png": "[encoded data removed]",
      "text/plain": [
       "<Figure size 432x288 with 1 Axes>"
      ]
     },
     "metadata": {
      "needs_background": "light"
     },
     "output_type": "display_data"
    }
   ],
   "source": [
    "sns.distplot(sample_array)"
   ]
  },
  {
   "cell_type": "code",
   "execution_count": 26,
   "metadata": {},
   "outputs": [
    {
     "name": "stdout",
     "output_type": "stream",
     "text": [
      "398.9783080260304\n",
      "396.37108\n"
     ]
    }
   ],
   "source": [
    "print(runs.mean())\n",
    "print(sample_array.mean())"
   ]
  },
  {
   "cell_type": "code",
   "execution_count": 28,
   "metadata": {},
   "outputs": [
    {
     "name": "stdout",
     "output_type": "stream",
     "text": [
      "12311.660901652069\n",
      "12176.103558833602\n"
     ]
    }
   ],
   "source": [
    "print(runs.var()/50)\n",
    "print(sample_array.var())"
   ]
  },
  {
   "cell_type": "code",
   "execution_count": 30,
   "metadata": {},
   "outputs": [
    {
     "name": "stdout",
     "output_type": "stream",
     "text": [
      "108.97097291274507\n",
      "110.34538304267016\n"
     ]
    }
   ],
   "source": [
    "print(runs.std()/7.2)  # divide 7.2 because square root of 50(sample size) is approx 7.2\n",
    "print(sample_array.std())"
   ]
  },
  {
   "cell_type": "code",
   "execution_count": null,
   "metadata": {},
   "outputs": [],
   "source": []
  }
 ],
 "metadata": {
  "kernelspec": {
   "display_name": "Python 3",
   "language": "python",
   "name": "python3"
  },
  "language_info": {
   "codemirror_mode": {
    "name": "ipython",
    "version": 3
   },
   "file_extension": ".py",
   "mimetype": "text/x-python",
   "name": "python",
   "nbconvert_exporter": "python",
   "pygments_lexer": "ipython3",
   "version": "3.6.8"
  }
 },
 "nbformat": 4,
 "nbformat_minor": 2
}
